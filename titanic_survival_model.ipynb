{
  "nbformat": 4,
  "nbformat_minor": 0,
  "metadata": {
    "colab": {
      "name": "titanic-survival-model",
      "version": "0.3.2",
      "provenance": [],
      "collapsed_sections": [],
      "toc_visible": true,
      "include_colab_link": true
    },
    "kernelspec": {
      "name": "python3",
      "display_name": "Python 3"
    }
  },
  "cells": [
    {
      "cell_type": "markdown",
      "metadata": {
        "id": "view-in-github",
        "colab_type": "text"
      },
      "source": [
        "<a href=\"https://colab.research.google.com/github/lgcaobianco/udacityMLE/blob/master/titanic_survival_model.ipynb\" target=\"_parent\"><img src=\"https://colab.research.google.com/assets/colab-badge.svg\" alt=\"Open In Colab\"/></a>"
      ]
    },
    {
      "metadata": {
        "id": "tFJaaKziaZq8",
        "colab_type": "code",
        "colab": {}
      },
      "cell_type": "code",
      "source": [
        "import pandas as pd\n",
        "import sys\n",
        "sys.path.insert(0, '/home/lgcaobianco/repositorios/courses/udacity-MLE/titanic-example')\n",
        "import visuals as vs"
      ],
      "execution_count": 0,
      "outputs": []
    },
    {
      "metadata": {
        "id": "nfGff6YYfy3y",
        "colab_type": "text"
      },
      "cell_type": "markdown",
      "source": [
        ""
      ]
    },
    {
      "metadata": {
        "id": "WlNiOzJBazdI",
        "colab_type": "code",
        "colab": {}
      },
      "cell_type": "code",
      "source": [
        "#import data and check if operation was successful\n",
        "full_data = pd.read_csv('/home/lgcaobianco/repositorios/courses/udacity-MLE/titanic-example/titanic_data.csv')\n",
        "full_data.head()\n",
        "outcomes = full_data['Survived']\n",
        "data = full_data.drop('Survived', axis=1)"
      ],
      "execution_count": 0,
      "outputs": []
    },
    {
      "metadata": {
        "id": "0y3iG__xx4vK",
        "colab_type": "text"
      },
      "cell_type": "markdown",
      "source": [
        "#Creating function that measures accuracy"
      ]
    },
    {
      "metadata": {
        "id": "9HDryVxVgP7B",
        "colab_type": "code",
        "colab": {}
      },
      "cell_type": "code",
      "source": [
        "def measure_accuracy(truth, pred):\n",
        "  \"\"\" returns accuracy of prediction \"\"\"\n",
        "  if len(truth) == len(pred):\n",
        "    return \"prediction has an accuracy of {:.2f}%\".format((truth==pred).mean() * 100)\n",
        "  else:\n",
        "    return \"data differs in length!\""
      ],
      "execution_count": 0,
      "outputs": []
    },
    {
      "metadata": {
        "id": "2J2Hdhwox8Hj",
        "colab_type": "text"
      },
      "cell_type": "markdown",
      "source": [
        "#Creating first prediction\n",
        "\n",
        "The first module with make predictions based only on the passenger's sex"
      ]
    },
    {
      "metadata": {
        "id": "0c7s71RdnSY1",
        "colab_type": "code",
        "outputId": "491b1eb5-e8e0-41b4-ef66-690d4135abc4",
        "colab": {
          "base_uri": "https://localhost:8080/",
          "height": 35
        }
      },
      "cell_type": "code",
      "source": [
        "def prediction_1(data):\n",
        "  \"\"\" prediction based on passenger sex:\"\"\"\n",
        "  predictions = []\n",
        "  for _, passenger in data.iterrows():\n",
        "    if(passenger['Sex'] == 'male'):\n",
        "      predictions.append(0)\n",
        "    else:\n",
        "      predictions.append(1)\n",
        "  \n",
        "  return pd.Series(predictions)\n",
        "predictions = prediction_1(data)\n",
        "print(measure_accuracy(outcomes, predictions))"
      ],
      "execution_count": 19,
      "outputs": [
        {
          "output_type": "stream",
          "text": [
            "prediction has an accuracy of 78.68%\n"
          ],
          "name": "stdout"
        }
      ]
    },
    {
      "metadata": {
        "id": "sCqa7ti7pv9S",
        "colab_type": "text"
      },
      "cell_type": "markdown",
      "source": [
        "#Refining model\n",
        "##Closer look at passenger classes\n",
        "If passenger classes are evaluated, it will be noted that most women in classes 1 and 2 have survived,  and most men in classes 2 and 3 have perished. Women in class 3 will be analysed further."
      ]
    },
    {
      "metadata": {
        "id": "GCsDcKCXrtUm",
        "colab_type": "text"
      },
      "cell_type": "markdown",
      "source": [
        ""
      ]
    },
    {
      "metadata": {
        "id": "_jX74s5Upu0l",
        "colab_type": "code",
        "outputId": "6ba7663b-408b-446c-ccf7-5bbe1bc2d2b4",
        "colab": {
          "base_uri": "https://localhost:8080/",
          "height": 791
        }
      },
      "cell_type": "code",
      "source": [
        "vs.survival_stats(data, outcomes, 'Pclass', [\"Sex == 'male'\"])\n",
        "vs.survival_stats(data, outcomes, 'Pclass', [\"Sex == 'female'\"])"
      ],
      "execution_count": 20,
      "outputs": [
        {
          "output_type": "display_data",
          "data": {
            "text/plain": [
              "<Figure size 576x432 with 1 Axes>"
            ],
            "image/png": "[encoded data removed]"
          },
          "metadata": {
            "tags": [],
            "needs_background": "light"
          }
        },
        {
          "output_type": "display_data",
          "data": {
            "text/plain": [
              "<Figure size 576x432 with 1 Axes>"
            ],
            "image/png": "[encoded data removed]"
          },
          "metadata": {
            "tags": [],
            "needs_background": "light"
          }
        }
      ]
    },
    {
      "metadata": {
        "id": "wGb3O0fFtF9M",
        "colab_type": "text"
      },
      "cell_type": "markdown",
      "source": [
        "As it can be noted, survival data of women in class 3 and men in class 1 need further analysis\n",
        "\n",
        "##Men in class 1\n",
        "As it can be noted below, men with $Age >40$ had smaller chance of surviving"
      ]
    },
    {
      "metadata": {
        "id": "KHw0NrUktSA3",
        "colab_type": "code",
        "outputId": "aae90ca8-4fe3-4256-f4f6-9e6c4df2f8b1",
        "colab": {
          "base_uri": "https://localhost:8080/",
          "height": 404
        }
      },
      "cell_type": "code",
      "source": [
        "vs.survival_stats(data, outcomes, 'Age', [\"Sex == 'male'\", \"Pclass == 1\"])"
      ],
      "execution_count": 21,
      "outputs": [
        {
          "output_type": "display_data",
          "data": {
            "text/plain": [
              "<Figure size 576x432 with 1 Axes>"
            ],
            "image/png": "[encoded data removed]"
          },
          "metadata": {
            "tags": [],
            "needs_background": "light"
          }
        }
      ]
    },
    {
      "metadata": {
        "id": "Pd_yK7TYvC0N",
        "colab_type": "text"
      },
      "cell_type": "markdown",
      "source": [
        "##Women in class 3"
      ]
    },
    {
      "metadata": {
        "id": "JhvTS3b7vFnh",
        "colab_type": "code",
        "outputId": "0e507166-9818-4619-f120-3fa4b547bfa6",
        "colab": {
          "base_uri": "https://localhost:8080/",
          "height": 404
        }
      },
      "cell_type": "code",
      "source": [
        "vs.survival_stats(data, outcomes, 'Age', [\"Sex == 'female'\", \"Pclass == 3\"])"
      ],
      "execution_count": 22,
      "outputs": [
        {
          "output_type": "display_data",
          "data": {
            "text/plain": [
              "<Figure size 576x432 with 1 Axes>"
            ],
            "image/png": "[encoded data removed]"
          },
          "metadata": {
            "tags": [],
            "needs_background": "light"
          }
        }
      ]
    },
    {
      "metadata": {
        "id": "C83My-hrv7T2",
        "colab_type": "text"
      },
      "cell_type": "markdown",
      "source": [
        "As shown, women with age between 40 and 50 didn't survive."
      ]
    },
    {
      "metadata": {
        "id": "ct6CDGslqkw7",
        "colab_type": "code",
        "outputId": "909e1d8d-e378-4ddd-985c-1e262366124f",
        "colab": {
          "base_uri": "https://localhost:8080/",
          "height": 35
        }
      },
      "cell_type": "code",
      "source": [
        "def prediction_2(data):\n",
        "  \"\"\" this model will take in consideration classes of passengers\"\"\"\n",
        "  predictions = []\n",
        "  for _, passenger in data.iterrows():\n",
        "    if(passenger['Sex'] == 'male'):\n",
        "      if(passenger['Pclass'] == 1):\n",
        "        if(passenger['Age'] <= 40):\n",
        "          predictions.append(1)\n",
        "        else:\n",
        "          predictions.append(0)\n",
        "      else:\n",
        "        predictions.append(0)\n",
        "    else:\n",
        "      if(passenger['Pclass'] <= 2):\n",
        "        predictions.append(1)\n",
        "      else:\n",
        "        if(passenger['Age'] >= 40 or passenger['Age'] <= 50):\n",
        "          predictions.append(0)\n",
        "        else:\n",
        "          predictions.append(1)\n",
        "  return predictions\n",
        "\n",
        "predictions = prediction_2(data)\n",
        "print(measure_accuracy(outcomes, predictions))"
      ],
      "execution_count": 23,
      "outputs": [
        {
          "output_type": "stream",
          "text": [
            "prediction has an accuracy of 79.69%\n"
          ],
          "name": "stdout"
        }
      ]
    },
    {
      "metadata": {
        "id": "dxWYDwBTwYnR",
        "colab_type": "text"
      },
      "cell_type": "markdown",
      "source": [
        "##Taking a deeper look at women with $Age \\leq 40$ \n",
        "\n",
        "It is possible to see that women with $Fare \\leq 20$ had a bigger chance of survival.**bold text**"
      ]
    },
    {
      "metadata": {
        "id": "OkoMXvaFszQ2",
        "colab_type": "code",
        "outputId": "675928d4-5062-4383-f085-16b5be91026f",
        "colab": {
          "base_uri": "https://localhost:8080/",
          "height": 404
        }
      },
      "cell_type": "code",
      "source": [
        "vs.survival_stats(data, outcomes, 'Fare', [\"Sex == 'female'\", \"Pclass == 3\", \"Age <= 40\"])"
      ],
      "execution_count": 24,
      "outputs": [
        {
          "output_type": "display_data",
          "data": {
            "text/plain": [
              "<Figure size 576x432 with 1 Axes>"
            ],
            "image/png": "[encoded data removed]"
          },
          "metadata": {
            "tags": [],
            "needs_background": "light"
          }
        }
      ]
    },
    {
      "metadata": {
        "id": "fnZnwn0zw5pA",
        "colab_type": "text"
      },
      "cell_type": "markdown",
      "source": [
        "## Final model\n",
        "So we change the model, adding the newly discovered  *criterium*"
      ]
    },
    {
      "metadata": {
        "id": "DyQxeL4bwVdW",
        "colab_type": "code",
        "outputId": "379b3ce0-6cfd-4b34-924b-8c772e50c741",
        "colab": {
          "base_uri": "https://localhost:8080/",
          "height": 35
        }
      },
      "cell_type": "code",
      "source": [
        "def prediction_3(data):\n",
        "  \"\"\" this model will take in consideration classes of passengers\"\"\"\n",
        "  predictions = []\n",
        "  for _, passenger in data.iterrows():\n",
        "    if(passenger['Sex'] == 'male'):\n",
        "      if(passenger['Pclass'] == 1):\n",
        "        if(passenger['Age'] <= 40):\n",
        "          predictions.append(1)\n",
        "        else:\n",
        "          predictions.append(0)\n",
        "      else:\n",
        "        predictions.append(0)\n",
        "    else:\n",
        "      if(passenger['Pclass'] <= 2):\n",
        "        predictions.append(1)\n",
        "      else:\n",
        "        if(passenger['Age'] >= 40 or passenger['Age'] <= 50):\n",
        "          predictions.append(0)\n",
        "        else:\n",
        "          if(passenger['Fare'] <= 20):\n",
        "            predictions.append(1)\n",
        "          else:\n",
        "            predictions.append(0)\n",
        "  return predictions\n",
        "\n",
        "predictions = prediction_3(data)\n",
        "print(measure_accuracy(outcomes, predictions))"
      ],
      "execution_count": 25,
      "outputs": [
        {
          "output_type": "stream",
          "text": [
            "prediction has an accuracy of 80.02%\n"
          ],
          "name": "stdout"
        }
      ]
    },
    {
      "metadata": {
        "id": "v12HMPb9xNtC",
        "colab_type": "text"
      },
      "cell_type": "markdown",
      "source": [
        "and the proposed accuracy has been achieved."
      ]
    }
  ]
}