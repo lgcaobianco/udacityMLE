{
  "nbformat": 4,
  "nbformat_minor": 0,
  "metadata": {
    "colab": {
      "name": "p02m01.ipynb",
      "version": "0.3.2",
      "provenance": [],
      "collapsed_sections": [],
      "include_colab_link": true
    },
    "kernelspec": {
      "name": "python3",
      "display_name": "Python 3"
    }
  },
  "cells": [
    {
      "cell_type": "markdown",
      "metadata": {
        "id": "view-in-github",
        "colab_type": "text"
      },
      "source": [
        "<a href=\"https://colab.research.google.com/github/lgcaobianco/udacityMLE/blob/master/p02m01.ipynb\" target=\"_parent\"><img src=\"https://colab.research.google.com/assets/colab-badge.svg\" alt=\"Open In Colab\"/></a>"
      ]
    },
    {
      "metadata": {
        "id": "YVIAaiGgwzxQ",
        "colab_type": "text"
      },
      "cell_type": "markdown",
      "source": [
        "#Loading data and training models"
      ]
    },
    {
      "metadata": {
        "id": "gf68T8ex7mqq",
        "colab_type": "code",
        "colab": {}
      },
      "cell_type": "code",
      "source": [
        "import pandas as pd\n",
        "import numpy as np\n",
        "from sklearn.linear_model import LogisticRegression\n",
        "from sklearn.tree import DecisionTreeClassifier\n",
        "from sklearn.svm import SVC\n",
        "from sklearn.neural_network import MLPClassifier\n",
        "from IPython.display import display\n",
        "from sklearn.metrics import accuracy_score\n",
        "data = pd.read_csv(\"/home/lgcaobianco/repositorios/courses/udacity-MLE/p02m01/2_class_data.csv\")"
      ],
      "execution_count": 0,
      "outputs": []
    },
    {
      "metadata": {
        "id": "Zx7UdSuk9RR4",
        "colab_type": "code",
        "outputId": "12b3a968-b9d6-4c9b-f22d-66b9032187a3",
        "colab": {
          "base_uri": "https://localhost:8080/",
          "height": 125
        }
      },
      "cell_type": "code",
      "source": [
        "print(data.head())\n",
        "X = np.array(data[['x1','x2']])\n",
        "y = np.array(data['y'])"
      ],
      "execution_count": 2,
      "outputs": [
        {
          "output_type": "stream",
          "text": [
            "        x1       x2  y\n",
            "0  0.24539  0.81725  0\n",
            "1  0.21774  0.76462  0\n",
            "2  0.20161  0.69737  0\n",
            "3  0.20161  0.58041  0\n",
            "4  0.24770  0.49561  0\n"
          ],
          "name": "stdout"
        }
      ]
    },
    {
      "metadata": {
        "id": "YmhLvrh4izf3",
        "colab_type": "text"
      },
      "cell_type": "markdown",
      "source": [
        "A linear classifier, such as the one used in logistic regression, should have poor accuracy"
      ]
    },
    {
      "metadata": {
        "id": "K27VsvxX-Kj3",
        "colab_type": "code",
        "outputId": "20a8c659-485f-439d-fb4a-333882ee7786",
        "colab": {
          "base_uri": "https://localhost:8080/",
          "height": 35
        }
      },
      "cell_type": "code",
      "source": [
        "classifier = LogisticRegression()\n",
        "classifier.fit(X,y)\n",
        "classifier.score(X,y)"
      ],
      "execution_count": 3,
      "outputs": [
        {
          "output_type": "execute_result",
          "data": {
            "text/plain": [
              "0.6666666666666666"
            ]
          },
          "metadata": {
            "tags": []
          },
          "execution_count": 3
        }
      ]
    },
    {
      "metadata": {
        "id": "sUjL2gzpcqrM",
        "colab_type": "code",
        "outputId": "2d75cf89-8163-429d-e286-1c7957681e75",
        "colab": {
          "base_uri": "https://localhost:8080/",
          "height": 35
        }
      },
      "cell_type": "code",
      "source": [
        "classifier = DecisionTreeClassifier()\n",
        "classifier.fit(X,y)\n",
        "classifier.score(X,y)"
      ],
      "execution_count": 4,
      "outputs": [
        {
          "output_type": "execute_result",
          "data": {
            "text/plain": [
              "1.0"
            ]
          },
          "metadata": {
            "tags": []
          },
          "execution_count": 4
        }
      ]
    },
    {
      "metadata": {
        "id": "SijDdNKcjFF0",
        "colab_type": "text"
      },
      "cell_type": "markdown",
      "source": [
        "The default in MLP classifier contains 100 neurons, which explains the high accuracy"
      ]
    },
    {
      "metadata": {
        "id": "1KZ0c3BueE1L",
        "colab_type": "code",
        "outputId": "65d9e73e-6218-46be-bdba-c74e0dceb3b7",
        "colab": {
          "base_uri": "https://localhost:8080/",
          "height": 35
        }
      },
      "cell_type": "code",
      "source": [
        "classifier = MLPClassifier()\n",
        "classifier.fit(X,y)\n",
        "classifier.score(X,y)"
      ],
      "execution_count": 5,
      "outputs": [
        {
          "output_type": "execute_result",
          "data": {
            "text/plain": [
              "0.6666666666666666"
            ]
          },
          "metadata": {
            "tags": []
          },
          "execution_count": 5
        }
      ]
    },
    {
      "metadata": {
        "id": "TS7T-dMChOS0",
        "colab_type": "code",
        "outputId": "0649c34c-1f57-4155-89d5-a093b13f3f2b",
        "colab": {
          "base_uri": "https://localhost:8080/",
          "height": 35
        }
      },
      "cell_type": "code",
      "source": [
        "classifier = SVC()\n",
        "classifier.fit(X,y)\n",
        "classifier.score(X,y)"
      ],
      "execution_count": 6,
      "outputs": [
        {
          "output_type": "execute_result",
          "data": {
            "text/plain": [
              "0.6666666666666666"
            ]
          },
          "metadata": {
            "tags": []
          },
          "execution_count": 6
        }
      ]
    },
    {
      "metadata": {
        "id": "l1sYyaZjwyP-",
        "colab_type": "text"
      },
      "cell_type": "markdown",
      "source": [
        ""
      ]
    },
    {
      "metadata": {
        "id": "nj7gagP7w4T7",
        "colab_type": "text"
      },
      "cell_type": "markdown",
      "source": [
        "#Training and Testing Models"
      ]
    },
    {
      "metadata": {
        "id": "_G1fp9zxwXFm",
        "colab_type": "code",
        "colab": {}
      },
      "cell_type": "code",
      "source": [
        "from sklearn.model_selection import train_test_split\n",
        "data = np.asarray(pd.read_csv(\"/home/lgcaobianco/repositorios/courses/udacity-MLE/p02m01/testing-data.csv\", header = None))"
      ],
      "execution_count": 0,
      "outputs": []
    },
    {
      "metadata": {
        "id": "dYmI5BlCwfxu",
        "colab_type": "code",
        "colab": {}
      },
      "cell_type": "code",
      "source": [
        "X = data[:, 0:2]\n",
        "y = data[:, 2]"
      ],
      "execution_count": 0,
      "outputs": []
    },
    {
      "metadata": {
        "id": "J8SB9pwSxdMj",
        "colab_type": "code",
        "outputId": "7be67232-a431-4bc2-d565-a064e9798cfe",
        "colab": {
          "base_uri": "https://localhost:8080/",
          "height": 125
        }
      },
      "cell_type": "code",
      "source": [
        "X_train, X_test, y_train, y_test = train_test_split(X, y, random_state = 42, test_size=0.25)\n",
        "display(X_train[:5])\n",
        "display(y_train[:5])"
      ],
      "execution_count": 9,
      "outputs": [
        {
          "output_type": "display_data",
          "data": {
            "text/plain": [
              "array([[0.24539, 0.3962 ],\n",
              "       [0.33986, 0.71199],\n",
              "       [0.45276, 0.74415],\n",
              "       [0.28226, 0.82602],\n",
              "       [0.46198, 0.30556]])"
            ]
          },
          "metadata": {
            "tags": []
          }
        },
        {
          "output_type": "display_data",
          "data": {
            "text/plain": [
              "array([1., 0., 1., 0., 1.])"
            ]
          },
          "metadata": {
            "tags": []
          }
        }
      ]
    },
    {
      "metadata": {
        "id": "KEc4_nlB0tpp",
        "colab_type": "text"
      },
      "cell_type": "markdown",
      "source": [
        "Method fit must be called using ```X_train``` and ```y_train``` and the predictions must be made using ```X_test```\n",
        "\n",
        "\n",
        "\n",
        "\n"
      ]
    },
    {
      "metadata": {
        "id": "JydTTP9-zCv5",
        "colab_type": "code",
        "colab": {}
      },
      "cell_type": "code",
      "source": [
        "model = DecisionTreeClassifier()\n",
        "model.fit(X_train, y_train)\n",
        "y_pred = model.predict(X_test)"
      ],
      "execution_count": 0,
      "outputs": []
    },
    {
      "metadata": {
        "id": "r9ndda1K11-4",
        "colab_type": "text"
      },
      "cell_type": "markdown",
      "source": [
        "The results obtained in  ```y_pred``` must be compared to  ```y_test```, which represents the original values in the dataset."
      ]
    },
    {
      "metadata": {
        "id": "MW-y_DRN0Wkh",
        "colab_type": "code",
        "outputId": "a443501f-4d12-466f-8bcb-dcea747737ad",
        "colab": {
          "base_uri": "https://localhost:8080/",
          "height": 35
        }
      },
      "cell_type": "code",
      "source": [
        "acc = accuracy_score(y_test, y_pred)\n",
        "print(\"The accuracy achieved was: \" + str(acc*100) + \"% \")"
      ],
      "execution_count": 12,
      "outputs": [
        {
          "output_type": "stream",
          "text": [
            "The accuracy achieved was: 95.83333333333334% \n"
          ],
          "name": "stdout"
        }
      ]
    },
    {
      "metadata": {
        "id": "YNvMTLcoA9o8",
        "colab_type": "code",
        "colab": {}
      },
      "cell_type": "code",
      "source": [
        ""
      ],
      "execution_count": 0,
      "outputs": []
    }
  ]
}