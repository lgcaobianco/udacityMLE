{
  "nbformat": 4,
  "nbformat_minor": 0,
  "metadata": {
    "colab": {
      "name": "p02m03-grid-search-lab.ipynb",
      "version": "0.3.2",
      "provenance": [],
      "collapsed_sections": [],
      "toc_visible": true,
      "include_colab_link": true
    },
    "kernelspec": {
      "name": "python3",
      "display_name": "Python 3"
    }
  },
  "cells": [
    {
      "cell_type": "markdown",
      "metadata": {
        "id": "view-in-github",
        "colab_type": "text"
      },
      "source": [
        "<a href=\"https://colab.research.google.com/github/lgcaobianco/udacityMLE/blob/master/p02m03_grid_search_lab.ipynb\" target=\"_parent\"><img src=\"https://colab.research.google.com/assets/colab-badge.svg\" alt=\"Open In Colab\"/></a>"
      ]
    },
    {
      "metadata": {
        "id": "McEKEztYEed4",
        "colab_type": "text"
      },
      "cell_type": "markdown",
      "source": [
        "#First imports"
      ]
    },
    {
      "metadata": {
        "id": "h9q35PAszl6d",
        "colab_type": "code",
        "colab": {}
      },
      "cell_type": "code",
      "source": [
        "import pandas as pd\n",
        "import numpy as np\n",
        "import matplotlib.pyplot as plt"
      ],
      "execution_count": 0,
      "outputs": []
    },
    {
      "metadata": {
        "id": "8c6-KIg7EhaF",
        "colab_type": "text"
      },
      "cell_type": "markdown",
      "source": [
        "#Useful functions\n",
        "##Function to plot data"
      ]
    },
    {
      "metadata": {
        "id": "AXC6CNJU3ECY",
        "colab_type": "code",
        "colab": {}
      },
      "cell_type": "code",
      "source": [
        "#Used to plot data in csv\n",
        "def plot_points(X,y):\n",
        "  plt.scatter(X[np.argwhere(y==0).flatten(),0], X[np.argwhere(y==0).flatten(),1],s = 50, color = 'blue', edgecolor = 'k')\n",
        "  plt.scatter(X[np.argwhere(y==1).flatten(),0], X[np.argwhere(y==1).flatten(),1],s = 50, color = 'red', edgecolor = 'k')\n",
        "\n",
        "  plt.xlim(-2.05,2.05)\n",
        "  plt.ylim(-2.05,2.05)\n",
        "  plt.grid(False)\n",
        "  plt.tick_params(\n",
        "      axis='x',\n",
        "      which='both',\n",
        "      bottom=False,\n",
        "      top=False)\n",
        "  plt.show()"
      ],
      "execution_count": 0,
      "outputs": []
    },
    {
      "metadata": {
        "id": "SK3uSEANEqIP",
        "colab_type": "text"
      },
      "cell_type": "markdown",
      "source": [
        "##Function to plot the model"
      ]
    },
    {
      "metadata": {
        "id": "wYA2FBPO8AhV",
        "colab_type": "code",
        "colab": {}
      },
      "cell_type": "code",
      "source": [
        "#Used to plot the resulting model\n",
        "def plot_model(X, y, clf):\n",
        "    plt.scatter(X[np.argwhere(y==0).flatten(),0],X[np.argwhere(y==0).flatten(),1],s = 50, color = 'blue', edgecolor = 'k')\n",
        "    plt.scatter(X[np.argwhere(y==1).flatten(),0],X[np.argwhere(y==1).flatten(),1],s = 50, color = 'red', edgecolor = 'k')\n",
        "\n",
        "    plt.xlim(-2.05,2.05)\n",
        "    plt.ylim(-2.05,2.05)\n",
        "    plt.grid(False)\n",
        "    plt.tick_params(\n",
        "        axis='x',\n",
        "        which=False,\n",
        "        bottom=False,\n",
        "        top=False)\n",
        "\n",
        "    r = np.linspace(-2.1,2.1,300)\n",
        "    s,t = np.meshgrid(r,r)\n",
        "    s = np.reshape(s,(np.size(s),1))\n",
        "    t = np.reshape(t,(np.size(t),1))\n",
        "    h = np.concatenate((s,t),1)\n",
        "\n",
        "    z = clf.predict(h)\n",
        "\n",
        "    s = s.reshape((np.size(r),np.size(r)))\n",
        "    t = t.reshape((np.size(r),np.size(r)))\n",
        "    z = z.reshape((np.size(r),np.size(r)))\n",
        "\n",
        "    plt.contourf(s,t,z,colors = ['blue','red'],alpha = 0.2,levels = range(-1,2))\n",
        "    if len(np.unique(z)) > 1:\n",
        "        plt.contour(s,t,z,colors = 'k', linewidths = 2)\n",
        "    plt.show()"
      ],
      "execution_count": 0,
      "outputs": []
    },
    {
      "metadata": {
        "id": "Kabg5UF1Et3X",
        "colab_type": "text"
      },
      "cell_type": "markdown",
      "source": [
        "#Model Creation and Improvement"
      ]
    },
    {
      "metadata": {
        "id": "l1rZgXshE20I",
        "colab_type": "text"
      },
      "cell_type": "markdown",
      "source": [
        "##Plotting data"
      ]
    },
    {
      "metadata": {
        "id": "mqBODwRd2hUe",
        "colab_type": "code",
        "outputId": "f113597c-8524-41c4-de26-f0c3d9946bfa",
        "colab": {
          "base_uri": "https://localhost:8080/",
          "height": 269
        }
      },
      "cell_type": "code",
      "source": [
        "data = np.asarray(pd.read_csv(\"/home/lgcaobianco/repositorios/courses/udacity-MLE/grid-search-lab/data.csv\", header=None))\n",
        "X = data[:,0:2]\n",
        "y = data[:, 2]\n",
        "plot_points(X,y)"
      ],
      "execution_count": 261,
      "outputs": [
        {
          "output_type": "display_data",
          "data": {
            "text/plain": [
              "<Figure size 432x288 with 1 Axes>"
            ],
            "image/png": "[encoded data removed]"
          },
          "metadata": {
            "tags": [],
            "needs_background": "light"
          }
        }
      ]
    },
    {
      "metadata": {
        "id": "Yelkz0-a_EVU",
        "colab_type": "text"
      },
      "cell_type": "markdown",
      "source": [
        ""
      ]
    },
    {
      "metadata": {
        "id": "aKTy8BFgE8Qe",
        "colab_type": "text"
      },
      "cell_type": "markdown",
      "source": [
        "##Splitting data\n",
        "data needs to be split into train, validation and test"
      ]
    },
    {
      "metadata": {
        "id": "YX3M-41P5Zl7",
        "colab_type": "code",
        "colab": {}
      },
      "cell_type": "code",
      "source": [
        "from sklearn.model_selection import train_test_split\n",
        "X_train, X_test, y_train, y_test = train_test_split(X, y, test_size = 0.2, random_state = 42)\n",
        "X_train, X_val, y_train, y_val = train_test_split(X_train, y_train, test_size = 0.2, random_state = 42)"
      ],
      "execution_count": 0,
      "outputs": []
    },
    {
      "metadata": {
        "id": "C8dEU2uIFBo0",
        "colab_type": "text"
      },
      "cell_type": "markdown",
      "source": [
        "##Initial model\n",
        "After the data is split, we can assess the ```f1score``` of the initial model."
      ]
    },
    {
      "metadata": {
        "id": "NISP2HgO6ApH",
        "colab_type": "code",
        "colab": {
          "base_uri": "https://localhost:8080/",
          "height": 341
        },
        "outputId": "3a68efec-ebd7-464f-cf61-250916f2eb56"
      },
      "cell_type": "code",
      "source": [
        "from sklearn.tree import DecisionTreeClassifier\n",
        "from sklearn.metrics import accuracy_score, f1_score\n",
        "\n",
        "classifier = DecisionTreeClassifier(random_state = 42)\n",
        "classifier.fit(X_train,y_train)\n",
        "y_train_pred = classifier.predict(X_train)\n",
        "y_val_pred = classifier.predict(X_val)\n",
        "\n",
        "print(\"Accuracy on train was: \"+ str(accuracy_score(y_train, y_train_pred)*100)+\"%.\")\n",
        "print(\"F1 score on train was: \"+ str(f1_score(y_train,y_train_pred)*100) + \"%.\")\n",
        "\n",
        "print(\"Accuracy on validation was: \"+ str(accuracy_score(y_val, y_val_pred)*100)+\"%.\")\n",
        "print(\"F1 score on validation was: \"+ str(f1_score(y_val,y_val_pred)*100) + \"%.\")\n",
        "plot_model(X,y, classifier)"
      ],
      "execution_count": 263,
      "outputs": [
        {
          "output_type": "stream",
          "text": [
            "Accuracy on train was: 100.0%.\n",
            "F1 score on train was: 100.0%.\n",
            "Accuracy on validation was: 75.0%.\n",
            "F1 score on validation was: 71.42857142857143%.\n"
          ],
          "name": "stdout"
        },
        {
          "output_type": "display_data",
          "data": {
            "text/plain": [
              "<Figure size 432x288 with 1 Axes>"
            ],
            "image/png": "[encoded data removed]"
          },
          "metadata": {
            "tags": [],
            "needs_background": "light"
          }
        }
      ]
    },
    {
      "metadata": {
        "id": "zzBjrMox_LBt",
        "colab_type": "text"
      },
      "cell_type": "markdown",
      "source": [
        "The big difference between f1score on test and validation indicates that model is overfitting.\n",
        "\n",
        "##Improving the model using ```GridSearchCV```"
      ]
    },
    {
      "metadata": {
        "id": "4crfny3X-y-M",
        "colab_type": "code",
        "colab": {
          "base_uri": "https://localhost:8080/",
          "height": 341
        },
        "outputId": "c1157877-6271-4bda-c442-316bb0330516"
      },
      "cell_type": "code",
      "source": [
        "from sklearn.model_selection import GridSearchCV\n",
        "from sklearn.metrics import make_scorer\n",
        "\n",
        "classifier = DecisionTreeClassifier(random_state=42)\n",
        "parameters = {'max_depth':[1,2,4,6,8,10], 'min_samples_leaf':[1,2,4,6,8,10], \n",
        "              'min_samples_split':[2,4,6,8,10]}\n",
        "scorer = make_scorer(f1_score)\n",
        "grid_obj = GridSearchCV(classifier, parameters, scoring = scorer)\n",
        "best_fit = grid_obj.fit(X_train, y_train).best_estimator_\n",
        "\n",
        "best_train_prediction = best_fit.predict(X_train)\n",
        "best_val_prediction = best_fit.predict(X_val)\n",
        "\n",
        "print(\"Accuracy on train was: \"+ str(accuracy_score(y_train, best_train_prediction)*100)+\"%.\")\n",
        "print(\"F1 score on train was: \"+ str(f1_score(y_train,best_train_prediction)*100) + \"%.\")\n",
        "\n",
        "print(\"Accuracy on validation was: \"+ str(accuracy_score(y_val, best_val_prediction)*100)+\"%.\")\n",
        "print(\"F1 score on validation was: \"+ str(f1_score(y_val,best_val_prediction)*100) + \"%.\")\n",
        "\n",
        "plot_model(X=X,y=y, clf=best_fit)"
      ],
      "execution_count": 264,
      "outputs": [
        {
          "output_type": "stream",
          "text": [
            "Accuracy on train was: 87.5%.\n",
            "F1 score on train was: 87.87878787878789%.\n",
            "Accuracy on validation was: 93.75%.\n",
            "F1 score on validation was: 93.33333333333333%.\n"
          ],
          "name": "stdout"
        },
        {
          "output_type": "display_data",
          "data": {
            "text/plain": [
              "<Figure size 432x288 with 1 Axes>"
            ],
            "image/png": "[encoded data removed]"
          },
          "metadata": {
            "tags": [],
            "needs_background": "light"
          }
        }
      ]
    },
    {
      "metadata": {
        "id": "FckXVRxsFvxj",
        "colab_type": "text"
      },
      "cell_type": "markdown",
      "source": [
        "As it can be seen, the model now has a smaller difference between the training and validation set, and both scores are high. Therefore the model has been improved, and its score on the test set may be evaluated.\n",
        "\n",
        "##Testing best model"
      ]
    },
    {
      "metadata": {
        "id": "AilrHAbaFt3Q",
        "colab_type": "code",
        "colab": {
          "base_uri": "https://localhost:8080/",
          "height": 53
        },
        "outputId": "ba9c2bea-0228-4fed-9b6f-5357d9cda292"
      },
      "cell_type": "code",
      "source": [
        "y_test_best_predict = best_fit.predict(X_test)\n",
        "print(\"Accuracy on test was: \"+ str(accuracy_score(y_test, y_test_best_predict)*100)+\"%.\")\n",
        "print(\"F1 score on test was: \"+ str(f1_score(y_test,y_test_best_predict)*100) + \"%.\")"
      ],
      "execution_count": 265,
      "outputs": [
        {
          "output_type": "stream",
          "text": [
            "Accuracy on test was: 80.0%.\n",
            "F1 score on test was: 81.81818181818183%.\n"
          ],
          "name": "stdout"
        }
      ]
    },
    {
      "metadata": {
        "id": "hi_-1zFQGcKL",
        "colab_type": "text"
      },
      "cell_type": "markdown",
      "source": [
        "#Conclusion\n",
        "The scorer chosen here was ```f1score``` and it was used to assess a ```DecisionTreeClassifier```.  Accuracy was shown only as a metric, and it was not used as a *criterium* to decide between topologies of the tree in analysis. \n",
        "\n",
        "It is show that through the **Grid Search Method** it is possible to find the best classifier. The data was split into three different sets: *train*, *validation* and *test*. The test data are only used *after* the best classifier is found, and therefore none decisions are made using this set of information.\n",
        "\n"
      ]
    },
    {
      "metadata": {
        "id": "8BAD2BZzWSiK",
        "colab_type": "text"
      },
      "cell_type": "markdown",
      "source": [
        "#Bonus\n",
        "\n",
        "As a plus, the same process will take place with different classifiers. This is done in order to practice the concepts and methods here used.\n",
        "\n",
        "##Multilayer Perceptron\n",
        "### finding best topology"
      ]
    },
    {
      "metadata": {
        "id": "jQqH_ma_Hnq_",
        "colab_type": "code",
        "colab": {}
      },
      "cell_type": "code",
      "source": [
        "from sklearn.neural_network import MLPClassifier\n",
        "\n",
        "mlpClassifier = MLPClassifier()\n",
        "parametersMLP = {'hidden_layer_sizes': [5, 10, 15, 20, 50, [5, 10], [5, 10, 10, 15], [20, 50, 100]], 'activation': ['logistic','tanh']}\n",
        "scorer = make_scorer(accuracy_score)\n",
        "grid_obj_mlp = GridSearchCV(mlpClassifier, parametersMLP, scoring = scorer)\n",
        "best_mlp = grid_obj_mlp.fit(X_train, y_train).best_estimator_"
      ],
      "execution_count": 0,
      "outputs": []
    },
    {
      "metadata": {
        "id": "Iu_TQDOwWY7x",
        "colab_type": "text"
      },
      "cell_type": "markdown",
      "source": [
        "###Testing best fit on validation and training test"
      ]
    },
    {
      "metadata": {
        "id": "4hDUu__LWAmi",
        "colab_type": "code",
        "colab": {
          "base_uri": "https://localhost:8080/",
          "height": 323
        },
        "outputId": "8fb027d4-f057-47d7-9e26-c1d37f16d208"
      },
      "cell_type": "code",
      "source": [
        "prd_mlp_train = best_mlp.predict(X_train)\n",
        "prd_mlp_validation = best_mlp.predict(X_val)\n",
        "\n",
        "print(\"F1 score on train was: \"+ str(f1_score(y_test,y_test_best_predict)))\n",
        "print(\"F1 score on validation was: \"+ str(f1_score(y_test,y_test_best_predict)))\n",
        "\n",
        "prd_mlp_test = best_mlp.predict(X_test)\n",
        "print(accuracy_score(y_test, prd_mlp_test))\n",
        "plot_model(X, y, best_mlp)"
      ],
      "execution_count": 267,
      "outputs": [
        {
          "output_type": "stream",
          "text": [
            "F1 score on train was: 0.8181818181818182\n",
            "F1 score on validation was: 0.8181818181818182\n",
            "0.75\n"
          ],
          "name": "stdout"
        },
        {
          "output_type": "display_data",
          "data": {
            "text/plain": [
              "<Figure size 432x288 with 1 Axes>"
            ],
            "image/png": "[encoded data removed]"
          },
          "metadata": {
            "tags": [],
            "needs_background": "light"
          }
        }
      ]
    },
    {
      "metadata": {
        "id": "2ncMAAwaZl8s",
        "colab_type": "text"
      },
      "cell_type": "markdown",
      "source": [
        "##Support Vector Machines\n",
        "\n",
        "###create grid svc object"
      ]
    },
    {
      "metadata": {
        "id": "KpjSMXk9ZmOa",
        "colab_type": "code",
        "colab": {}
      },
      "cell_type": "code",
      "source": [
        "from sklearn.svm import SVC\n",
        "\n",
        "svc = SVC()\n",
        "parametersSVC = {'kernel': ['linear', 'rbf']}\n",
        "scorer = make_scorer(accuracy_score)\n",
        "gridSVC = GridSearchCV(svc, parametersSVC, scoring = scorer)\n",
        "best_svc = gridSVC.fit(X_train, y_train).best_estimator_\n"
      ],
      "execution_count": 0,
      "outputs": []
    },
    {
      "metadata": {
        "id": "zd2XQ_Iaa48u",
        "colab_type": "text"
      },
      "cell_type": "markdown",
      "source": [
        "###assessing scores of SVC"
      ]
    },
    {
      "metadata": {
        "id": "QlbmXJ9AZ4BO",
        "colab_type": "code",
        "colab": {
          "base_uri": "https://localhost:8080/",
          "height": 71
        },
        "outputId": "05206750-56fe-4518-e6c7-76965807a47b"
      },
      "cell_type": "code",
      "source": [
        "print(\"The accuracy on train was: \" + str(accuracy_score(y_train, best_svc.predict(X_train))) +\" %.\")\n",
        "print(\"The accuracy on validation was: \" + str(accuracy_score(y_val, best_svc.predict(X_val))) +\" %.\")\n",
        "print(\"The accuracy on validation was: \" + str(accuracy_score(y_test, best_svc.predict(X_test))) +\" %.\")"
      ],
      "execution_count": 269,
      "outputs": [
        {
          "output_type": "stream",
          "text": [
            "The accuracy on train was: 0.765625 %.\n",
            "The accuracy on validation was: 0.8125 %.\n",
            "The accuracy on validation was: 0.9 %.\n"
          ],
          "name": "stdout"
        }
      ]
    },
    {
      "metadata": {
        "id": "2agrpzkabbuM",
        "colab_type": "text"
      },
      "cell_type": "markdown",
      "source": [
        "With a high accuracy, we can check the plot of the new model\n",
        "### model of best SVC"
      ]
    },
    {
      "metadata": {
        "id": "qiYgMaE-bT2F",
        "colab_type": "code",
        "colab": {
          "base_uri": "https://localhost:8080/",
          "height": 269
        },
        "outputId": "2865da76-4aeb-4454-a34e-cbcb0bc85e21"
      },
      "cell_type": "code",
      "source": [
        "plot_model(X,y,  best_svc)"
      ],
      "execution_count": 270,
      "outputs": [
        {
          "output_type": "display_data",
          "data": {
            "text/plain": [
              "<Figure size 432x288 with 1 Axes>"
            ],
            "image/png": "[encoded data removed]"
          },
          "metadata": {
            "tags": [],
            "needs_background": "light"
          }
        }
      ]
    }
  ]
}