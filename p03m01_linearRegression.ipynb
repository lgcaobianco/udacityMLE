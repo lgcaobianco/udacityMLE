{
  "nbformat": 4,
  "nbformat_minor": 0,
  "metadata": {
    "colab": {
      "name": "p03m01-linearRegression.ipynb",
      "version": "0.3.2",
      "provenance": [],
      "collapsed_sections": [],
      "include_colab_link": true
    },
    "kernelspec": {
      "name": "python3",
      "display_name": "Python 3"
    }
  },
  "cells": [
    {
      "cell_type": "markdown",
      "metadata": {
        "id": "view-in-github",
        "colab_type": "text"
      },
      "source": [
        "<a href=\"https://colab.research.google.com/github/lgcaobianco/udacityMLE/blob/master/p03m01_linearRegression.ipynb\" target=\"_parent\"><img src=\"https://colab.research.google.com/assets/colab-badge.svg\" alt=\"Open In Colab\"/></a>"
      ]
    },
    {
      "metadata": {
        "id": "yqevbD6mVfsT",
        "colab_type": "text"
      },
      "cell_type": "markdown",
      "source": [
        "##Lesson 15"
      ]
    },
    {
      "metadata": {
        "id": "9d4jaNctO92V",
        "colab_type": "code",
        "colab": {
          "base_uri": "https://localhost:8080/",
          "height": 143
        },
        "outputId": "1f4540a7-f1d1-4724-f272-29b675e60a14"
      },
      "cell_type": "code",
      "source": [
        "import pandas as pd\n",
        "import numpy as np\n",
        "\n",
        "bmi_life_data = pd.read_csv(\"/home/lgcaobianco/repositorios/courses/udacity-MLE/p03m01/life-expectancy.csv\")\n",
        "print(bmi_life_data.head())"
      ],
      "execution_count": 52,
      "outputs": [
        {
          "output_type": "stream",
          "text": [
            "       Country  Life expectancy       BMI\n",
            "0  Afghanistan             52.8  20.62058\n",
            "1      Albania             76.8  26.44657\n",
            "2      Algeria             75.5  24.59620\n",
            "3      Andorra             84.6  27.63048\n",
            "4       Angola             56.7  22.25083\n"
          ],
          "name": "stdout"
        },
        {
          "output_type": "execute_result",
          "data": {
            "text/plain": [
              "LinearRegression(copy_X=True, fit_intercept=True, n_jobs=1, normalize=False)"
            ]
          },
          "metadata": {
            "tags": []
          },
          "execution_count": 52
        }
      ]
    },
    {
      "metadata": {
        "id": "c7oVWG7CP-wY",
        "colab_type": "code",
        "colab": {
          "base_uri": "https://localhost:8080/",
          "height": 53
        },
        "outputId": "e2e22a03-a546-4e82-87b5-5f70dc5d53f4"
      },
      "cell_type": "code",
      "source": [
        "from sklearn.linear_model import LinearRegression\n",
        "regressor = LinearRegression()\n",
        "regressor.fit(bmi_life_data[['BMI']], bmi_life_data['Life expectancy'])\n",
        "print(regressor.)\n",
        "regressor.predict(21.07931)"
      ],
      "execution_count": 58,
      "outputs": [
        {
          "output_type": "stream",
          "text": [
            "7.227838343304796\n"
          ],
          "name": "stdout"
        },
        {
          "output_type": "execute_result",
          "data": {
            "text/plain": [
              "array([60.31564716])"
            ]
          },
          "metadata": {
            "tags": []
          },
          "execution_count": 58
        }
      ]
    },
    {
      "metadata": {
        "id": "l4QmiITKVkXA",
        "colab_type": "text"
      },
      "cell_type": "markdown",
      "source": [
        "##Lesson 17"
      ]
    },
    {
      "metadata": {
        "id": "5d9L_X5eVmMV",
        "colab_type": "code",
        "colab": {
          "base_uri": "https://localhost:8080/",
          "height": 35
        },
        "outputId": "4c2cda45-4427-494a-c184-5f846f8e12ee"
      },
      "cell_type": "code",
      "source": [
        "from sklearn.linear_model import LinearRegression\n",
        "from sklearn.datasets import load_boston\n",
        "\n",
        "boston_data = load_boston()\n",
        "x = boston_data['data']\n",
        "y = boston_data['target']\n",
        "\n",
        "model = LinearRegression()\n",
        "model.fit(x, y)\n",
        "sample_house = [[2.29690000e-01, 0.00000000e+00, 1.05900000e+01, 0.00000000e+00, 4.89000000e-01,\n",
        "                6.32600000e+00, 5.25000000e+01, 4.35490000e+00, 4.00000000e+00, 2.77000000e+02,\n",
        "                1.86000000e+01, 3.94870000e+02, 1.09700000e+01]]\n",
        "model.predict(sample_house)"
      ],
      "execution_count": 64,
      "outputs": [
        {
          "output_type": "execute_result",
          "data": {
            "text/plain": [
              "array([23.68420569])"
            ]
          },
          "metadata": {
            "tags": []
          },
          "execution_count": 64
        }
      ]
    },
    {
      "metadata": {
        "id": "_t0NWFCkVstY",
        "colab_type": "code",
        "colab": {}
      },
      "cell_type": "code",
      "source": [
        ""
      ],
      "execution_count": 0,
      "outputs": []
    }
  ]
}